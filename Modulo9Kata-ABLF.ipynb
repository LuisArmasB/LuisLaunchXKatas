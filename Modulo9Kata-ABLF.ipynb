{
 "cells": [
  {
   "cell_type": "markdown",
   "metadata": {},
   "source": [
    "# Ejercicio 1: Trabajar con argumentos en funciones"
   ]
  },
  {
   "cell_type": "code",
   "execution_count": 26,
   "metadata": {},
   "outputs": [
    {
     "name": "stdout",
     "output_type": "stream",
     "text": [
      "El promedio de los tres tanques es: 45.0\n",
      " Tanque 1: 40\n",
      " Tanque 2: 50\n",
      " Tanque 3: 45\n"
     ]
    }
   ],
   "source": [
    "def generaReporte(tanque1, tanque2, tanque3):\n",
    "    #prom=(tanque1 + tanque2+ tanque3)/3 \n",
    "    print(f\"El promedio de los tres tanques es: {promedio(tanque1, tanque2, tanque3)}\"+ \n",
    "    f\"\\n Tanque 1: {tanque1}\"\n",
    "      f\"\\n Tanque 2: {tanque2}\"\n",
    "        f\"\\n Tanque 3: {tanque3}\")\n",
    "\n",
    "\n",
    "def promedio(*args):\n",
    "    prom=0\n",
    "    for item in args:\n",
    "        prom+=item\n",
    "    prom=prom/len(args)\n",
    "    return prom \n",
    "\n",
    "generaReporte(40,50,45)"
   ]
  },
  {
   "cell_type": "markdown",
   "metadata": {},
   "source": [
    "# Ejercicio 2: Trabajo con argumentos de palabra clave"
   ]
  },
  {
   "cell_type": "code",
   "execution_count": 90,
   "metadata": {},
   "outputs": [
    {
     "name": "stdout",
     "output_type": "stream",
     "text": [
      "Misión hacia: Luna\n",
      " Hora de Pre-lanzado: 14 \n",
      " Tiempo de vuelo: 51 minutos \n",
      " Tiempo total: 65 \n",
      " Combustible: 23000000 litros \n",
      " Extras(Opcional): ()\n"
     ]
    }
   ],
   "source": [
    "def informeMision(horaPreLanzado, tiempoVuelo, destino, tanqueEx, tanqueIn, *tanquesPasos):\n",
    " texto1=f\"\"\"Misión hacia: {destino}\n",
    " Hora de Pre-lanzado: {horaPreLanzado} \n",
    " Tiempo de vuelo: {tiempoVuelo} minutos \n",
    " Tiempo total: {str(tiempoVuelo+horaPreLanzado)} \n",
    " Combustible: {str(tanqueEx+tanqueIn)} litros \n",
    " Extras(Opcional): {tanquesPasos}\"\"\" \n",
    " print(texto1)\n",
    "\n",
    "informeMision(14, 51, \"Luna\", 20000000,3000000)"
   ]
  },
  {
   "cell_type": "code",
   "execution_count": 93,
   "metadata": {},
   "outputs": [
    {
     "name": "stdout",
     "output_type": "stream",
     "text": [
      "Misión hacia: Moon\n",
      " Tiempo de vuelo: 74 minutos \n",
      " Combustible disponible: 43000\n",
      "Tanque: principal, Litros: 3000\n",
      "Tanque: externo, Litros: 40000\n"
     ]
    }
   ],
   "source": [
    "def informeMision(destino, *minutos, **tanques):\n",
    " texto1=f\"\"\"Misión hacia: {destino}\n",
    " Tiempo de vuelo: {sum(minutos)} minutos \n",
    " Combustible disponible: {sum(tanques.values())}\"\"\" \n",
    " print(texto1)\n",
    " tank=tanques\n",
    " for nombre, litros in tank.items():\n",
    "     print(f\"Tanque: {nombre}, Litros: {litros}\")\n",
    "\n",
    "\n",
    "\n",
    "informeMision(\"Moon\", 8, 11, 55, principal=3000, externo=40000)"
   ]
  }
 ],
 "metadata": {
  "interpreter": {
   "hash": "16998e60b42d2463311d8ca566ef37fb1c4848e6b1deae6139366f538935ad51"
  },
  "kernelspec": {
   "display_name": "Python 3.9.5 64-bit",
   "language": "python",
   "name": "python3"
  },
  "language_info": {
   "codemirror_mode": {
    "name": "ipython",
    "version": 3
   },
   "file_extension": ".py",
   "mimetype": "text/x-python",
   "name": "python",
   "nbconvert_exporter": "python",
   "pygments_lexer": "ipython3",
   "version": "3.9.5"
  },
  "orig_nbformat": 4
 },
 "nbformat": 4,
 "nbformat_minor": 2
}
