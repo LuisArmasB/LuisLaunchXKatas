{
 "cells": [
  {
   "cell_type": "markdown",
   "metadata": {},
   "source": [
    "# Ejercicio 1: Velocidad de un asteroide\n",
    "  ### Datos: \n",
    "  - Velocidad mayor a 25 km/s merece advertencia. \n",
    "  - Si un asteroide tiene una velocidad mayor o igual a 20 km/s se advierte que deben buscarlo en el cielo. "
   ]
  },
  {
   "cell_type": "code",
   "execution_count": 6,
   "metadata": {},
   "outputs": [
    {
     "name": "stdout",
     "output_type": "stream",
     "text": [
      "There's an asteroid coming too fast, evacuate!!!\n"
     ]
    }
   ],
   "source": [
    "velocidadAsteroide=45\n",
    "if velocidadAsteroide > 25: \n",
    "    print(\"There's an asteroid coming too fast!!!\")\n",
    "else:\n",
    "    print(\"The sky looks so clear today.\")\n",
    "\n",
    "    "
   ]
  },
  {
   "cell_type": "code",
   "execution_count": 13,
   "metadata": {},
   "outputs": [
    {
     "name": "stdout",
     "output_type": "stream",
     "text": [
      "The sky looks so clear today.\n"
     ]
    }
   ],
   "source": [
    "velocidadAsteroide=20\n",
    "if velocidadAsteroide > 25: \n",
    "    print(\"There's an asteroid coming too fast, evacuate!!!\")\n",
    "elif velocidadAsteroide >= 20:\n",
    "    print(\"Look at the sky something is going on!\")\n",
    "else:\n",
    "    print(\"The sky looks so clear today.\")\n",
    "\n",
    "    "
   ]
  },
  {
   "cell_type": "markdown",
   "metadata": {},
   "source": [
    "# Ejercicio 2: Uso de operadores and y or\n",
    "  ### Datos: \n",
    "  - Uso de las instrucciones/datos de los problemas anteriores. \n",
    "  - Los asteroides con una dimensión menor a 25 km se quemarán. \n"
   ]
  },
  {
   "cell_type": "code",
   "execution_count": 1,
   "metadata": {},
   "outputs": [
    {
     "name": "stdout",
     "output_type": "stream",
     "text": [
      "There's an asteroid coming too fast, evacuate!!!\n"
     ]
    }
   ],
   "source": [
    "tamanoAsteroide=10000\n",
    "velocidadAsteroide=45 \n",
    "\n",
    "if velocidadAsteroide > 25 and tamanoAsteroide > 25: \n",
    "    print(\"There's an asteroid coming too fast, evacuate!!!\")\n",
    "elif velocidadAsteroide >= 20:\n",
    "    print(\"Look at the sky something is going on!\")\n",
    "elif tamanoAsteroide < 25:\n",
    "    print(\"Nothing to see there. \")\n",
    "else: \n",
    "    print(\"The sky looks so clear today.\")\n",
    "\n",
    "\n",
    "    "
   ]
  }
 ],
 "metadata": {
  "interpreter": {
   "hash": "16998e60b42d2463311d8ca566ef37fb1c4848e6b1deae6139366f538935ad51"
  },
  "kernelspec": {
   "display_name": "Python 3.9.5 64-bit",
   "language": "python",
   "name": "python3"
  },
  "language_info": {
   "codemirror_mode": {
    "name": "ipython",
    "version": 3
   },
   "file_extension": ".py",
   "mimetype": "text/x-python",
   "name": "python",
   "nbconvert_exporter": "python",
   "pygments_lexer": "ipython3",
   "version": "3.9.5"
  },
  "orig_nbformat": 4
 },
 "nbformat": 4,
 "nbformat_minor": 2
}
