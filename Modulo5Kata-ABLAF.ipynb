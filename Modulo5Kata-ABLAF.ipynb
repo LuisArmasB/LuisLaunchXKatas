{
 "cells": [
  {
   "cell_type": "markdown",
   "metadata": {},
   "source": [
    "# Ejercicio 1: Utilizar operadores aritmeticos\n",
    "### Datos: \n",
    "- Tierra (149.597.870 km)  \n",
    "- Júpiter (778.547.200 km)."
   ]
  },
  {
   "cell_type": "code",
   "execution_count": 9,
   "metadata": {},
   "outputs": [
    {
     "name": "stdout",
     "output_type": "stream",
     "text": [
      "Distancia en km: 628949330\n",
      "Distancia en millas: 390577534\n"
     ]
    }
   ],
   "source": [
    "tierra=149597870\n",
    "jupiter=778547200\n",
    "distancia=abs((tierra-jupiter))\n",
    "print(\"Distancia en km: \"+ str(distancia))\n",
    "print(\"Distancia en millas: \"+ str(round(distancia*0.621)))"
   ]
  },
  {
   "cell_type": "markdown",
   "metadata": {},
   "source": [
    "# Ejercicio 2: Convierte cadenas en numeros y usa valores absolutos\n"
   ]
  },
  {
   "cell_type": "code",
   "execution_count": 11,
   "metadata": {},
   "outputs": [
    {
     "name": "stdout",
     "output_type": "stream",
     "text": [
      "4437200000\n",
      "2755501200.0\n"
     ]
    }
   ],
   "source": [
    "distanciaPlaneta1=input(\"Cual es la distancia de este planeta al sol? \")\n",
    "distanciaPlaneta2=input(\"Cual es la distancia de este planeta al sol? \")\n",
    "\n",
    "distanciaPlaneta1=int(distanciaPlaneta1)\n",
    "distanciaPlaneta2=int(distanciaPlaneta2)\n",
    "distanciaKm=abs(distanciaPlaneta2-distanciaPlaneta1)\n",
    "distanciaMi=distanciaKm*0.621\n",
    "\n",
    "print(str(distanciaKm)+\"\\n\"+ str(distanciaMi))\n"
   ]
  }
 ],
 "metadata": {
  "interpreter": {
   "hash": "16998e60b42d2463311d8ca566ef37fb1c4848e6b1deae6139366f538935ad51"
  },
  "kernelspec": {
   "display_name": "Python 3.9.5 64-bit",
   "language": "python",
   "name": "python3"
  },
  "language_info": {
   "codemirror_mode": {
    "name": "ipython",
    "version": 3
   },
   "file_extension": ".py",
   "mimetype": "text/x-python",
   "name": "python",
   "nbconvert_exporter": "python",
   "pygments_lexer": "ipython3",
   "version": "3.9.5"
  },
  "orig_nbformat": 4
 },
 "nbformat": 4,
 "nbformat_minor": 2
}
