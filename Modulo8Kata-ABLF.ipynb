{
 "cells": [
  {
   "cell_type": "markdown",
   "metadata": {},
   "source": [
    "# Ejercicio 1: Creación de diccionarios de Python "
   ]
  },
  {
   "cell_type": "code",
   "execution_count": 23,
   "metadata": {},
   "outputs": [
    {
     "name": "stdout",
     "output_type": "stream",
     "text": [
      "Nombre del planeta: mars\n",
      "Lunas: 2\n"
     ]
    }
   ],
   "source": [
    "planet= {'name': 'mars', 'moons': 2}\n",
    "print(\"Nombre del planeta: \"+planet['name']+\"\\n\"+\n",
    "      \"Lunas: \"+ str(planet['moons']))\n",
    "\n",
    "planet['circunferencia']={'polar': 6752, 'equatorial': 6792}\n",
    "\n"
   ]
  },
  {
   "cell_type": "code",
   "execution_count": 36,
   "metadata": {},
   "outputs": [
    {
     "name": "stdout",
     "output_type": "stream",
     "text": [
      "Nombre del planeta: mars\n",
      "Circunferencia polar: 6752\n"
     ]
    }
   ],
   "source": [
    "print(\"Nombre del planeta: \"+planet['name']+\"\\n\"+\n",
    "      \"Circunferencia polar: \"+ str (planet.get('circunferencia',{}).get('polar')))\n",
    "\n",
    "\n",
    "\n"
   ]
  },
  {
   "cell_type": "markdown",
   "metadata": {},
   "source": [
    "# Ejercicio 2: Programación dinamica con diccionarios"
   ]
  },
  {
   "cell_type": "code",
   "execution_count": 43,
   "metadata": {},
   "outputs": [
    {
     "name": "stdout",
     "output_type": "stream",
     "text": [
      "Numero de lunas: 214\n",
      "Promedio: 17.833333333333332\n"
     ]
    }
   ],
   "source": [
    "planet_moons = {\n",
    "    'mercury': 0,\n",
    "    'venus': 0,\n",
    "    'earth': 1,\n",
    "    'mars': 2,\n",
    "    'jupiter': 79,\n",
    "    'saturn': 82,\n",
    "    'uranus': 27,\n",
    "    'neptune': 14,\n",
    "    'pluto': 5,\n",
    "    'haumea': 2,\n",
    "    'makemake': 1,\n",
    "    'eris': 1\n",
    "}\n",
    "\n",
    "aux=0\n",
    "moons=planet_moons.values()\n",
    "\n",
    "for moon in moons:\n",
    "    aux+=+int(moon)\n",
    "print(f\"Numero de lunas: {aux}\")\n",
    "\n",
    "aux2=len(planet_moons)\n",
    "prom=aux/aux2\n",
    "print(f\"Promedio: {prom}\")\n"
   ]
  }
 ],
 "metadata": {
  "interpreter": {
   "hash": "16998e60b42d2463311d8ca566ef37fb1c4848e6b1deae6139366f538935ad51"
  },
  "kernelspec": {
   "display_name": "Python 3.9.5 64-bit",
   "language": "python",
   "name": "python3"
  },
  "language_info": {
   "codemirror_mode": {
    "name": "ipython",
    "version": 3
   },
   "file_extension": ".py",
   "mimetype": "text/x-python",
   "name": "python",
   "nbconvert_exporter": "python",
   "pygments_lexer": "ipython3",
   "version": "3.9.5"
  },
  "orig_nbformat": 4
 },
 "nbformat": 4,
 "nbformat_minor": 2
}
